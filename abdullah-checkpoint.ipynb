{
 "cells": [
  {
   "cell_type": "code",
   "execution_count": 17,
   "metadata": {},
   "outputs": [],
   "source": [
    "import numpy as np\n",
    "import pandas as pd\n",
    "import itertools\n",
    "from sklearn.model_selection import train_test_split\n",
    "from sklearn.feature_extraction.text import TfidfVectorizer\n",
    "from sklearn.linear_model import PassiveAggressiveClassifier\n",
    "from sklearn.metrics import accuracy_score, confusion_matrix"
   ]
  },
  {
   "cell_type": "code",
   "execution_count": 18,
   "metadata": {},
   "outputs": [],
   "source": [
    "from pandas.io.json import json_normalize\n",
    "import json"
   ]
  },
  {
   "cell_type": "code",
   "execution_count": 19,
   "metadata": {},
   "outputs": [
    {
     "name": "stdout",
     "output_type": "stream",
     "text": [
      "(20, 60)\n"
     ]
    }
   ],
   "source": [
    "with open('C:/Users/akhan.extern/Desktop/jsondata/abdullah.json') as json_data:\n",
    "    sample_object = json.load(json_data)\n",
    "\n",
    "df = pd.io.json.json_normalize(sample_object)\n",
    "df.columns = df.columns.map(lambda x: x.split(\".\")[-1])\n",
    "\n",
    "print(df.shape)"
   ]
  },
  {
   "cell_type": "code",
   "execution_count": 20,
   "metadata": {},
   "outputs": [
    {
     "data": {
      "text/plain": [
       "Index(['delivery', 'takeaway', 'res_id', 'apikey', 'id', 'name', 'url',\n",
       "       'address', 'locality', 'city', 'city_id', 'latitude', 'longitude',\n",
       "       'zipcode', 'country_id', 'locality_verbose', 'switch_to_order_menu',\n",
       "       'cuisines', 'timings', 'average_cost_for_two', 'price_range',\n",
       "       'currency', 'highlights', 'offers', 'opentable_support',\n",
       "       'is_zomato_book_res', 'mezzo_provider', 'is_book_form_web_view',\n",
       "       'book_form_web_view_url', 'book_again_url', 'thumb', 'aggregate_rating',\n",
       "       'rating_text', 'rating_color', 'text', 'type', 'tint', 'votes',\n",
       "       'all_reviews_count', 'photos_url', 'photo_count', 'photos', 'menu_url',\n",
       "       'featured_image', 'medio_provider', 'has_online_delivery',\n",
       "       'is_delivering_now', 'include_bogo_offers', 'deeplink',\n",
       "       'is_table_reservation_supported', 'has_table_booking', 'book_url',\n",
       "       'events_url', 'phone_numbers', 'reviews', 'establishment',\n",
       "       'establishment_types', 'zomato_events', 'order_url', 'order_deeplink'],\n",
       "      dtype='object')"
      ]
     },
     "execution_count": 20,
     "metadata": {},
     "output_type": "execute_result"
    }
   ],
   "source": [
    "df.columns"
   ]
  },
  {
   "cell_type": "code",
   "execution_count": 21,
   "metadata": {},
   "outputs": [],
   "source": [
    "lst_col = 'highlights'"
   ]
  },
  {
   "cell_type": "code",
   "execution_count": 22,
   "metadata": {},
   "outputs": [],
   "source": [
    "data= pd.DataFrame({\n",
    "       col:np.repeat(df[col].values, df[lst_col].str.len())\n",
    "         for col in df.columns.difference([lst_col])\n",
    "      }).assign(**{lst_col:np.concatenate(df[lst_col].values)})[df.columns.tolist()]"
   ]
  },
  {
   "cell_type": "code",
   "execution_count": 23,
   "metadata": {},
   "outputs": [
    {
     "data": {
      "text/plain": [
       "['Dinner',\n",
       " 'Credit Card',\n",
       " 'Debit Card',\n",
       " 'Lunch',\n",
       " 'Cash',\n",
       " 'Free Parking',\n",
       " 'Indoor Seating',\n",
       " 'Digital Payments Accepted',\n",
       " 'Sneakpeek',\n",
       " 'Live Sports Screening',\n",
       " 'Table booking recommended',\n",
       " 'Air Conditioned',\n",
       " 'Buffet',\n",
       " 'Group Meal',\n",
       " 'Dinner',\n",
       " 'Cash',\n",
       " 'Takeaway Available',\n",
       " 'Debit Card',\n",
       " 'Lunch',\n",
       " 'Credit Card',\n",
       " 'Valet Parking Available',\n",
       " 'Indoor Seating',\n",
       " 'Table booking recommended',\n",
       " 'Fullbar',\n",
       " 'Free Wifi',\n",
       " 'Air Conditioned',\n",
       " 'Smoking Area',\n",
       " 'Dinner',\n",
       " 'Cash',\n",
       " 'Takeaway Available',\n",
       " 'Debit Card',\n",
       " 'Lunch',\n",
       " 'Credit Card',\n",
       " 'Valet Parking Available',\n",
       " 'Indoor Seating',\n",
       " 'Table booking recommended',\n",
       " 'Fullbar',\n",
       " 'Free Wifi',\n",
       " 'Air Conditioned',\n",
       " 'Smoking Area',\n",
       " 'Lunch',\n",
       " 'Takeaway Available',\n",
       " 'Debit Card',\n",
       " 'Dinner',\n",
       " 'Cash',\n",
       " 'Credit Card',\n",
       " 'Delivery',\n",
       " 'Nightlife',\n",
       " 'Fullbar',\n",
       " 'Table Reservation Not Required',\n",
       " 'Smoking Area',\n",
       " 'Valet Parking Available',\n",
       " 'Indoor Seating',\n",
       " 'Wifi',\n",
       " 'Dinner',\n",
       " 'Cash',\n",
       " 'Takeaway Available',\n",
       " 'Debit Card',\n",
       " 'Lunch',\n",
       " 'Delivery',\n",
       " 'Credit Card',\n",
       " 'Valet Parking Available',\n",
       " 'Indoor Seating',\n",
       " 'Restricted Entry',\n",
       " 'Fullbar',\n",
       " 'Free Wifi',\n",
       " 'Table Reservation Not Required',\n",
       " 'Lunch',\n",
       " 'Cash',\n",
       " 'Credit Card',\n",
       " 'Debit Card',\n",
       " 'Dinner',\n",
       " 'Takeaway Available',\n",
       " 'Valet Parking Available',\n",
       " 'Air Conditioned',\n",
       " 'Indoor Seating',\n",
       " 'Sneakpeek',\n",
       " 'Buffet',\n",
       " 'Cash',\n",
       " 'Delivery',\n",
       " 'Debit Card',\n",
       " 'Dinner',\n",
       " 'Credit Card',\n",
       " 'Lunch',\n",
       " 'Air Conditioned',\n",
       " 'Free Parking',\n",
       " 'Nightlife',\n",
       " 'Indoor Seating',\n",
       " 'Table booking recommended',\n",
       " 'Digital Payments Accepted',\n",
       " 'Resto Bar',\n",
       " 'Smoking Area',\n",
       " 'Live Sports Screening',\n",
       " 'Fullbar',\n",
       " 'Free Wifi',\n",
       " 'Delivery',\n",
       " 'Credit Card',\n",
       " 'Debit Card',\n",
       " 'Dinner',\n",
       " 'Cash',\n",
       " 'Takeaway Available',\n",
       " 'Lunch',\n",
       " 'Serves Alcohol',\n",
       " 'Table reservation required',\n",
       " 'Kid Friendly',\n",
       " 'Smoking Area',\n",
       " 'Live Entertainment',\n",
       " 'Indoor Seating',\n",
       " 'Air Conditioned',\n",
       " 'Wifi',\n",
       " 'Brunch',\n",
       " 'Fullbar',\n",
       " 'Dinner',\n",
       " 'Cash',\n",
       " 'Credit Card',\n",
       " 'Lunch',\n",
       " 'Takeaway Available',\n",
       " 'Debit Card',\n",
       " 'DJ',\n",
       " 'Live Entertainment',\n",
       " 'Nightlife',\n",
       " 'Fullbar',\n",
       " 'Live Music',\n",
       " 'Romantic Dining',\n",
       " 'Table booking recommended',\n",
       " 'Available for Functions',\n",
       " 'Wheelchair Accessible',\n",
       " 'Celebrity Frequented',\n",
       " 'Live Sports Screening',\n",
       " 'Sports TV',\n",
       " 'Outdoor Seating',\n",
       " 'Indoor Seating',\n",
       " 'Above 18 Only',\n",
       " 'Digital Payments Accepted',\n",
       " 'Air Conditioned',\n",
       " 'Smoking Area',\n",
       " 'Credit Card',\n",
       " 'Lunch',\n",
       " 'Dinner',\n",
       " 'Cash',\n",
       " 'Takeaway Available',\n",
       " 'Debit Card',\n",
       " 'Free Wifi',\n",
       " 'Air Conditioned',\n",
       " 'Smoking Area',\n",
       " 'Valet Parking Available',\n",
       " 'Table booking recommended',\n",
       " 'Indoor Seating',\n",
       " 'Dinner',\n",
       " 'Standing Tables',\n",
       " 'Takeaway Available',\n",
       " 'Debit Card',\n",
       " 'Cash',\n",
       " 'Delivery',\n",
       " 'Credit Card',\n",
       " 'Celebrity Frequented',\n",
       " 'Fullbar',\n",
       " 'Live Music',\n",
       " 'Rooftop',\n",
       " 'Air Conditioned',\n",
       " 'Smoking Area',\n",
       " 'Nightlife',\n",
       " 'Outdoor Seating',\n",
       " 'Indoor Seating',\n",
       " 'Serves Cocktails',\n",
       " 'Table booking recommended',\n",
       " 'Resto Bar',\n",
       " 'Dinner',\n",
       " 'Cash',\n",
       " 'Takeaway Available',\n",
       " 'Debit Card',\n",
       " 'Lunch',\n",
       " 'Credit Card',\n",
       " 'Valet Parking Available',\n",
       " 'Indoor Seating',\n",
       " 'Table booking recommended',\n",
       " 'Fullbar',\n",
       " 'Free Wifi',\n",
       " 'Air Conditioned',\n",
       " 'Smoking Area',\n",
       " 'Credit Card',\n",
       " 'Debit Card',\n",
       " 'Lunch',\n",
       " 'Delivery',\n",
       " 'Takeaway Available',\n",
       " 'Dinner',\n",
       " 'Cash',\n",
       " 'Live Entertainment',\n",
       " 'Valet Parking Available',\n",
       " 'Live Music',\n",
       " 'Table reservation required',\n",
       " 'Air Conditioned',\n",
       " 'Wheelchair Accessible',\n",
       " 'Brunch',\n",
       " 'Live Sports Screening',\n",
       " 'Fullbar',\n",
       " 'Indoor Seating',\n",
       " 'Restricted Entry',\n",
       " 'Wifi',\n",
       " 'No Alcohol Available',\n",
       " 'Dinner',\n",
       " 'Delivery',\n",
       " 'Debit Card',\n",
       " 'Lunch',\n",
       " 'Cash',\n",
       " 'Takeaway Available',\n",
       " 'Credit Card',\n",
       " 'Free Parking',\n",
       " 'Air Conditioned',\n",
       " 'Pure Veg',\n",
       " 'Indoor Seating',\n",
       " 'Table booking recommended',\n",
       " 'Lunch',\n",
       " 'Takeaway Available',\n",
       " 'Credit Card',\n",
       " 'Dinner',\n",
       " 'Cash',\n",
       " 'Delivery',\n",
       " 'Debit Card',\n",
       " 'Fullbar',\n",
       " 'Table booking recommended',\n",
       " 'LGBTQIA Friendly',\n",
       " 'Smoking Area',\n",
       " 'DJ',\n",
       " 'Live Sports Screening',\n",
       " 'Nightlife',\n",
       " 'Indoor Seating',\n",
       " 'Air Conditioned',\n",
       " 'Serves Jain Food',\n",
       " 'Dance Floor',\n",
       " 'Lunch',\n",
       " 'Credit Card',\n",
       " 'Mall Parking',\n",
       " 'Debit Card',\n",
       " 'Delivery',\n",
       " 'Cash',\n",
       " 'Dinner',\n",
       " 'Takeaway Available',\n",
       " 'Live Music',\n",
       " 'Wifi',\n",
       " 'Indoor Seating',\n",
       " 'Valet Parking Available',\n",
       " 'Air Conditioned',\n",
       " 'Fullbar',\n",
       " 'Smoking Area',\n",
       " 'Lunch',\n",
       " 'Credit Card',\n",
       " 'Dinner',\n",
       " 'Cash',\n",
       " 'Takeaway Available',\n",
       " 'Debit Card',\n",
       " 'Indoor Seating',\n",
       " 'Free Wifi',\n",
       " 'Air Conditioned',\n",
       " 'LGBTQIA Friendly',\n",
       " 'Smoking Area',\n",
       " 'DJ',\n",
       " 'Fullbar',\n",
       " 'Live Music',\n",
       " 'Serves Cocktails',\n",
       " 'Table booking recommended',\n",
       " 'Sneakpeek',\n",
       " 'Nightlife',\n",
       " 'Lunch',\n",
       " 'Cash',\n",
       " 'Delivery',\n",
       " 'Debit Card',\n",
       " 'Dinner',\n",
       " 'Credit Card',\n",
       " 'DJ',\n",
       " 'Valet Parking Available',\n",
       " 'Live Music',\n",
       " 'Table booking recommended',\n",
       " 'Available for Functions',\n",
       " 'Smoking Area',\n",
       " 'Live Sports Screening',\n",
       " 'Fullbar',\n",
       " 'Indoor Seating',\n",
       " 'Restricted Entry',\n",
       " 'Air Conditioned',\n",
       " 'Private Dining Area Available',\n",
       " 'Wheelchair Accessible',\n",
       " 'Group Meal',\n",
       " 'Debit Card',\n",
       " 'Mall Parking',\n",
       " 'Lunch',\n",
       " 'Credit Card',\n",
       " 'Dinner',\n",
       " 'Takeaway Available',\n",
       " 'Cash',\n",
       " 'Delivery',\n",
       " 'Indoor Seating',\n",
       " 'Fullbar',\n",
       " 'Table Reservation Not Required',\n",
       " 'Nightlife',\n",
       " 'Digital Payments Accepted',\n",
       " 'Restricted Entry',\n",
       " 'Dinner',\n",
       " 'Lunch',\n",
       " 'Cash',\n",
       " 'Credit Card',\n",
       " 'Debit Card',\n",
       " 'DJ',\n",
       " 'Dance Floor',\n",
       " 'Live Entertainment',\n",
       " 'Valet Parking Available',\n",
       " 'Outdoor Seating',\n",
       " 'Indoor Seating',\n",
       " 'Digital Payments Accepted',\n",
       " 'Air Conditioned',\n",
       " 'LGBTQIA Friendly',\n",
       " 'Smoking Area',\n",
       " 'Brunch',\n",
       " 'Celebrity Frequented',\n",
       " 'Free Parking',\n",
       " 'Nightlife',\n",
       " 'Fullbar',\n",
       " 'Live Music',\n",
       " 'Table booking recommended',\n",
       " 'Available for Functions',\n",
       " 'Sneakpeek']"
      ]
     },
     "execution_count": 23,
     "metadata": {},
     "output_type": "execute_result"
    }
   ],
   "source": [
    "list(data.highlights.values) "
   ]
  },
  {
   "cell_type": "code",
   "execution_count": 25,
   "metadata": {},
   "outputs": [],
   "source": [
    "Delivery=data[data['highlights'] == 'Delivery']\n",
    "Delivery = Delivery.drop_duplicates(subset=['name'], keep='first')\n",
    "json=Delivery.to_json(r'Desktop//Delivery.json')"
   ]
  },
  {
   "cell_type": "code",
   "execution_count": 30,
   "metadata": {},
   "outputs": [
    {
     "data": {
      "text/plain": [
       "46               Hitchki\n",
       "79        Butterfly High\n",
       "95               Tanatan\n",
       "153    The Flying Saucer\n",
       "183              Veranda\n",
       "201        Delhi Highway\n",
       "217          145 Andheri\n",
       "265          Drinkery 51\n",
       "Name: name, dtype: object"
      ]
     },
     "execution_count": 30,
     "metadata": {},
     "output_type": "execute_result"
    }
   ],
   "source": [
    "Delivery.name"
   ]
  },
  {
   "cell_type": "code",
   "execution_count": 26,
   "metadata": {},
   "outputs": [],
   "source": [
    "RestoBar=data[data['highlights'] == 'Resto Bar']\n",
    "RestoBar = RestoBar.drop_duplicates(subset=['name'], keep='first')\n",
    "json=RestoBar.to_json(r'Desktop//RestoBar.json')"
   ]
  },
  {
   "cell_type": "code",
   "execution_count": 31,
   "metadata": {},
   "outputs": [
    {
     "data": {
      "text/plain": [
       "90        Butterfly High\n",
       "166    The Flying Saucer\n",
       "Name: name, dtype: object"
      ]
     },
     "execution_count": 31,
     "metadata": {},
     "output_type": "execute_result"
    }
   ],
   "source": [
    "RestoBar.name"
   ]
  },
  {
   "cell_type": "code",
   "execution_count": 27,
   "metadata": {},
   "outputs": [],
   "source": [
    "Dinner=data[data['highlights'] == 'Dinner']\n",
    "Dinner = Dinner.drop_duplicates(subset=['name'], keep='first')\n",
    "json=Dinner.to_json(r'Desktop//Dinner.json')"
   ]
  },
  {
   "cell_type": "code",
   "execution_count": 32,
   "metadata": {},
   "outputs": [
    {
     "data": {
      "text/plain": [
       "0                     Barbeque Central\n",
       "14                            Bayroute\n",
       "43                             Hitchki\n",
       "71           AB's - Absolute Barbecues\n",
       "81                      Butterfly High\n",
       "98                             Tanatan\n",
       "112    Sin City Rooftop Resto & Lounge\n",
       "148                  The Flying Saucer\n",
       "185                            Veranda\n",
       "200                      Delhi Highway\n",
       "215                        145 Andheri\n",
       "247                            Younion\n",
       "267                        Drinkery 51\n",
       "297                  Ministry Of Dance\n",
       "Name: name, dtype: object"
      ]
     },
     "execution_count": 32,
     "metadata": {},
     "output_type": "execute_result"
    }
   ],
   "source": [
    "Dinner.name"
   ]
  },
  {
   "cell_type": "code",
   "execution_count": 28,
   "metadata": {},
   "outputs": [],
   "source": [
    "LiveMusic=data[data['highlights'] == 'Live Music']\n",
    "LiveMusic = LiveMusic.drop_duplicates(subset=['name'], keep='first')\n",
    "json=LiveMusic.to_json(r'Desktop//LiveMusic.json')"
   ]
  },
  {
   "cell_type": "code",
   "execution_count": 33,
   "metadata": {},
   "outputs": [
    {
     "data": {
      "text/plain": [
       "122    Sin City Rooftop Resto & Lounge\n",
       "157                  The Flying Saucer\n",
       "189                            Veranda\n",
       "238                            Hitchki\n",
       "258                            Younion\n",
       "271                        Drinkery 51\n",
       "317                  Ministry Of Dance\n",
       "Name: name, dtype: object"
      ]
     },
     "execution_count": 33,
     "metadata": {},
     "output_type": "execute_result"
    }
   ],
   "source": [
    "LiveMusic.name"
   ]
  },
  {
   "cell_type": "code",
   "execution_count": 29,
   "metadata": {},
   "outputs": [],
   "source": [
    "LiveSportsScreening=data[data['highlights'] == 'Live Sports Screening']\n",
    "LiveSportsScreening = LiveSportsScreening.drop_duplicates(subset=['name'], keep='first')\n",
    "json=LiveSportsScreening.to_json(r'Desktop//LiveSportsScreening.json')"
   ]
  },
  {
   "cell_type": "code",
   "execution_count": 34,
   "metadata": {},
   "outputs": [
    {
     "data": {
      "text/plain": [
       "9                     Barbeque Central\n",
       "92                      Butterfly High\n",
       "128    Sin City Rooftop Resto & Lounge\n",
       "194                            Veranda\n",
       "224                        145 Andheri\n",
       "275                        Drinkery 51\n",
       "Name: name, dtype: object"
      ]
     },
     "execution_count": 34,
     "metadata": {},
     "output_type": "execute_result"
    }
   ],
   "source": [
    "LiveSportsScreening.name"
   ]
  },
  {
   "cell_type": "code",
   "execution_count": null,
   "metadata": {},
   "outputs": [],
   "source": []
  }
 ],
 "metadata": {
  "kernelspec": {
   "display_name": "Python 3",
   "language": "python",
   "name": "python3"
  },
  "language_info": {
   "codemirror_mode": {
    "name": "ipython",
    "version": 3
   },
   "file_extension": ".py",
   "mimetype": "text/x-python",
   "name": "python",
   "nbconvert_exporter": "python",
   "pygments_lexer": "ipython3",
   "version": "3.7.4"
  }
 },
 "nbformat": 4,
 "nbformat_minor": 2
}
