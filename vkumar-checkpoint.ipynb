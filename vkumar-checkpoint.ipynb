{
 "cells": [
  {
   "cell_type": "code",
   "execution_count": 1,
   "metadata": {},
   "outputs": [],
   "source": [
    "import numpy as np\n",
    "import pandas as pd\n",
    "import itertools\n",
    "from sklearn.model_selection import train_test_split\n",
    "from sklearn.feature_extraction.text import TfidfVectorizer\n",
    "from sklearn.linear_model import PassiveAggressiveClassifier\n",
    "from sklearn.metrics import accuracy_score, confusion_matrix"
   ]
  },
  {
   "cell_type": "code",
   "execution_count": 2,
   "metadata": {},
   "outputs": [],
   "source": [
    "from pandas.io.json import json_normalize\n",
    "import json"
   ]
  },
  {
   "cell_type": "code",
   "execution_count": 3,
   "metadata": {},
   "outputs": [
    {
     "name": "stdout",
     "output_type": "stream",
     "text": [
      "(20, 60)\n"
     ]
    }
   ],
   "source": [
    "with open('C:/Users/akhan.extern/Desktop/jsondata/vkumar.json') as json_data:\n",
    "    sample_object = json.load(json_data)\n",
    "\n",
    "df = pd.io.json.json_normalize(sample_object)\n",
    "df.columns = df.columns.map(lambda x: x.split(\".\")[-1])\n",
    "\n",
    "print(df.shape)"
   ]
  },
  {
   "cell_type": "code",
   "execution_count": 4,
   "metadata": {},
   "outputs": [
    {
     "data": {
      "text/plain": [
       "Index(['delivery', 'takeaway', 'res_id', 'apikey', 'id', 'name', 'url',\n",
       "       'address', 'locality', 'city', 'city_id', 'latitude', 'longitude',\n",
       "       'zipcode', 'country_id', 'locality_verbose', 'switch_to_order_menu',\n",
       "       'cuisines', 'timings', 'average_cost_for_two', 'price_range',\n",
       "       'currency', 'highlights', 'offers', 'opentable_support',\n",
       "       'is_zomato_book_res', 'mezzo_provider', 'is_book_form_web_view',\n",
       "       'book_form_web_view_url', 'book_again_url', 'thumb', 'aggregate_rating',\n",
       "       'rating_text', 'rating_color', 'text', 'type', 'tint', 'votes',\n",
       "       'all_reviews_count', 'photos_url', 'photo_count', 'photos', 'menu_url',\n",
       "       'featured_image', 'has_online_delivery', 'is_delivering_now',\n",
       "       'include_bogo_offers', 'deeplink', 'is_table_reservation_supported',\n",
       "       'has_table_booking', 'events_url', 'phone_numbers', 'reviews',\n",
       "       'establishment', 'establishment_types', 'medio_provider', 'book_url',\n",
       "       'order_url', 'order_deeplink', 'zomato_events'],\n",
       "      dtype='object')"
      ]
     },
     "execution_count": 4,
     "metadata": {},
     "output_type": "execute_result"
    }
   ],
   "source": [
    "df.columns"
   ]
  },
  {
   "cell_type": "code",
   "execution_count": 6,
   "metadata": {},
   "outputs": [],
   "source": [
    "lst_col = 'highlights'"
   ]
  },
  {
   "cell_type": "code",
   "execution_count": 7,
   "metadata": {},
   "outputs": [],
   "source": [
    "data= pd.DataFrame({\n",
    "       col:np.repeat(df[col].values, df[lst_col].str.len())\n",
    "         for col in df.columns.difference([lst_col])\n",
    "      }).assign(**{lst_col:np.concatenate(df[lst_col].values)})[df.columns.tolist()]"
   ]
  },
  {
   "cell_type": "code",
   "execution_count": 9,
   "metadata": {},
   "outputs": [
    {
     "data": {
      "text/plain": [
       "['Dinner',\n",
       " 'Cash',\n",
       " 'Takeaway Available',\n",
       " 'Debit Card',\n",
       " 'Lunch',\n",
       " 'Credit Card',\n",
       " 'Valet Parking Available',\n",
       " 'Indoor Seating',\n",
       " 'Table booking recommended',\n",
       " 'Fullbar',\n",
       " 'Free Wifi',\n",
       " 'Air Conditioned',\n",
       " 'Smoking Area',\n",
       " 'Dinner',\n",
       " 'Cash',\n",
       " 'Takeaway Available',\n",
       " 'Debit Card',\n",
       " 'Lunch',\n",
       " 'Credit Card',\n",
       " 'Valet Parking Available',\n",
       " 'Indoor Seating',\n",
       " 'Table booking recommended',\n",
       " 'Fullbar',\n",
       " 'Free Wifi',\n",
       " 'Air Conditioned',\n",
       " 'Smoking Area',\n",
       " 'Dinner',\n",
       " 'Credit Card',\n",
       " 'Debit Card',\n",
       " 'Lunch',\n",
       " 'Cash',\n",
       " 'Free Parking',\n",
       " 'Indoor Seating',\n",
       " 'Digital Payments Accepted',\n",
       " 'Sneakpeek',\n",
       " 'Live Sports Screening',\n",
       " 'Table booking recommended',\n",
       " 'Air Conditioned',\n",
       " 'Buffet',\n",
       " 'Group Meal',\n",
       " 'Debit Card',\n",
       " 'Lunch',\n",
       " 'Takeaway Available',\n",
       " 'Delivery',\n",
       " 'Dinner',\n",
       " 'Cash',\n",
       " 'Credit Card',\n",
       " 'Nightlife',\n",
       " 'Fullbar',\n",
       " 'Table Reservation Not Required',\n",
       " 'Smoking Area',\n",
       " 'Valet Parking Available',\n",
       " 'Indoor Seating',\n",
       " 'Wifi',\n",
       " 'Dinner',\n",
       " 'Cash',\n",
       " 'Takeaway Available',\n",
       " 'Debit Card',\n",
       " 'Lunch',\n",
       " 'Delivery',\n",
       " 'Credit Card',\n",
       " 'Valet Parking Available',\n",
       " 'Indoor Seating',\n",
       " 'Restricted Entry',\n",
       " 'Fullbar',\n",
       " 'Free Wifi',\n",
       " 'Table Reservation Not Required',\n",
       " 'Debit Card',\n",
       " 'Lunch',\n",
       " 'Delivery',\n",
       " 'Credit Card',\n",
       " 'Dinner',\n",
       " 'Cash',\n",
       " 'Takeaway Available',\n",
       " 'Live Entertainment',\n",
       " 'Valet Parking Available',\n",
       " 'Live Music',\n",
       " 'Table reservation required',\n",
       " 'Air Conditioned',\n",
       " 'Wheelchair Accessible',\n",
       " 'Live Sports Screening',\n",
       " 'Fullbar',\n",
       " 'Indoor Seating',\n",
       " 'Restricted Entry',\n",
       " 'Wifi',\n",
       " 'Brunch',\n",
       " 'Lunch',\n",
       " 'Cash',\n",
       " 'Credit Card',\n",
       " 'Debit Card',\n",
       " 'Dinner',\n",
       " 'Takeaway Available',\n",
       " 'Valet Parking Available',\n",
       " 'Air Conditioned',\n",
       " 'Indoor Seating',\n",
       " 'Sneakpeek',\n",
       " 'Buffet',\n",
       " 'Cash',\n",
       " 'Delivery',\n",
       " 'Debit Card',\n",
       " 'Dinner',\n",
       " 'Credit Card',\n",
       " 'Lunch',\n",
       " 'Air Conditioned',\n",
       " 'Free Parking',\n",
       " 'Nightlife',\n",
       " 'Indoor Seating',\n",
       " 'Table booking recommended',\n",
       " 'Digital Payments Accepted',\n",
       " 'Resto Bar',\n",
       " 'Smoking Area',\n",
       " 'Live Sports Screening',\n",
       " 'Fullbar',\n",
       " 'Free Wifi',\n",
       " 'Delivery',\n",
       " 'Credit Card',\n",
       " 'Debit Card',\n",
       " 'Dinner',\n",
       " 'Cash',\n",
       " 'Takeaway Available',\n",
       " 'Lunch',\n",
       " 'Serves Alcohol',\n",
       " 'Table reservation required',\n",
       " 'Kid Friendly',\n",
       " 'Smoking Area',\n",
       " 'Live Entertainment',\n",
       " 'Indoor Seating',\n",
       " 'Air Conditioned',\n",
       " 'Wifi',\n",
       " 'Brunch',\n",
       " 'Fullbar',\n",
       " 'Dinner',\n",
       " 'Cash',\n",
       " 'Credit Card',\n",
       " 'Lunch',\n",
       " 'Takeaway Available',\n",
       " 'Debit Card',\n",
       " 'DJ',\n",
       " 'Live Entertainment',\n",
       " 'Nightlife',\n",
       " 'Fullbar',\n",
       " 'Live Music',\n",
       " 'Romantic Dining',\n",
       " 'Table booking recommended',\n",
       " 'Available for Functions',\n",
       " 'Wheelchair Accessible',\n",
       " 'Celebrity Frequented',\n",
       " 'Live Sports Screening',\n",
       " 'Sports TV',\n",
       " 'Outdoor Seating',\n",
       " 'Indoor Seating',\n",
       " 'Above 18 Only',\n",
       " 'Digital Payments Accepted',\n",
       " 'Air Conditioned',\n",
       " 'Smoking Area',\n",
       " 'Credit Card',\n",
       " 'Lunch',\n",
       " 'Dinner',\n",
       " 'Cash',\n",
       " 'Takeaway Available',\n",
       " 'Debit Card',\n",
       " 'Free Wifi',\n",
       " 'Air Conditioned',\n",
       " 'Smoking Area',\n",
       " 'Valet Parking Available',\n",
       " 'Table booking recommended',\n",
       " 'Indoor Seating',\n",
       " 'Dinner',\n",
       " 'Cash',\n",
       " 'Takeaway Available',\n",
       " 'Debit Card',\n",
       " 'Lunch',\n",
       " 'Credit Card',\n",
       " 'Valet Parking Available',\n",
       " 'Indoor Seating',\n",
       " 'Table booking recommended',\n",
       " 'Fullbar',\n",
       " 'Free Wifi',\n",
       " 'Air Conditioned',\n",
       " 'Smoking Area',\n",
       " 'Dinner',\n",
       " 'Standing Tables',\n",
       " 'Takeaway Available',\n",
       " 'Debit Card',\n",
       " 'Cash',\n",
       " 'Delivery',\n",
       " 'Credit Card',\n",
       " 'Celebrity Frequented',\n",
       " 'Fullbar',\n",
       " 'Live Music',\n",
       " 'Rooftop',\n",
       " 'Air Conditioned',\n",
       " 'Smoking Area',\n",
       " 'Nightlife',\n",
       " 'Outdoor Seating',\n",
       " 'Indoor Seating',\n",
       " 'Serves Cocktails',\n",
       " 'Table booking recommended',\n",
       " 'Resto Bar',\n",
       " 'No Alcohol Available',\n",
       " 'Dinner',\n",
       " 'Delivery',\n",
       " 'Debit Card',\n",
       " 'Lunch',\n",
       " 'Cash',\n",
       " 'Takeaway Available',\n",
       " 'Credit Card',\n",
       " 'Free Parking',\n",
       " 'Air Conditioned',\n",
       " 'Pure Veg',\n",
       " 'Indoor Seating',\n",
       " 'Table booking recommended',\n",
       " 'Lunch',\n",
       " 'Takeaway Available',\n",
       " 'Credit Card',\n",
       " 'Dinner',\n",
       " 'Cash',\n",
       " 'Delivery',\n",
       " 'Debit Card',\n",
       " 'DJ',\n",
       " 'Live Sports Screening',\n",
       " 'Fullbar',\n",
       " 'Table booking recommended',\n",
       " 'LGBTQIA Friendly',\n",
       " 'Smoking Area',\n",
       " 'Dance Floor',\n",
       " 'Nightlife',\n",
       " 'Indoor Seating',\n",
       " 'Air Conditioned',\n",
       " 'Serves Jain Food',\n",
       " 'Lunch',\n",
       " 'Credit Card',\n",
       " 'Mall Parking',\n",
       " 'Debit Card',\n",
       " 'Delivery',\n",
       " 'Cash',\n",
       " 'Dinner',\n",
       " 'Takeaway Available',\n",
       " 'Live Music',\n",
       " 'Wifi',\n",
       " 'Indoor Seating',\n",
       " 'Valet Parking Available',\n",
       " 'Air Conditioned',\n",
       " 'Fullbar',\n",
       " 'Smoking Area',\n",
       " 'Lunch',\n",
       " 'Credit Card',\n",
       " 'Dinner',\n",
       " 'Cash',\n",
       " 'Takeaway Available',\n",
       " 'Debit Card',\n",
       " 'Indoor Seating',\n",
       " 'Free Wifi',\n",
       " 'Air Conditioned',\n",
       " 'LGBTQIA Friendly',\n",
       " 'Smoking Area',\n",
       " 'DJ',\n",
       " 'Fullbar',\n",
       " 'Live Music',\n",
       " 'Serves Cocktails',\n",
       " 'Table booking recommended',\n",
       " 'Sneakpeek',\n",
       " 'Nightlife',\n",
       " 'Lunch',\n",
       " 'Cash',\n",
       " 'Delivery',\n",
       " 'Debit Card',\n",
       " 'Dinner',\n",
       " 'Credit Card',\n",
       " 'DJ',\n",
       " 'Valet Parking Available',\n",
       " 'Live Music',\n",
       " 'Table booking recommended',\n",
       " 'Available for Functions',\n",
       " 'Smoking Area',\n",
       " 'Live Sports Screening',\n",
       " 'Fullbar',\n",
       " 'Indoor Seating',\n",
       " 'Restricted Entry',\n",
       " 'Air Conditioned',\n",
       " 'Private Dining Area Available',\n",
       " 'Wheelchair Accessible',\n",
       " 'Group Meal',\n",
       " 'Dinner',\n",
       " 'Lunch',\n",
       " 'Cash',\n",
       " 'Credit Card',\n",
       " 'Debit Card',\n",
       " 'DJ',\n",
       " 'Dance Floor',\n",
       " 'Live Entertainment',\n",
       " 'Valet Parking Available',\n",
       " 'Outdoor Seating',\n",
       " 'Indoor Seating',\n",
       " 'Digital Payments Accepted',\n",
       " 'Air Conditioned',\n",
       " 'LGBTQIA Friendly',\n",
       " 'Smoking Area',\n",
       " 'Brunch',\n",
       " 'Celebrity Frequented',\n",
       " 'Free Parking',\n",
       " 'Nightlife',\n",
       " 'Fullbar',\n",
       " 'Live Music',\n",
       " 'Table booking recommended',\n",
       " 'Available for Functions',\n",
       " 'Sneakpeek',\n",
       " 'Lunch',\n",
       " 'Cash',\n",
       " 'Delivery',\n",
       " 'Credit Card',\n",
       " 'Debit Card',\n",
       " 'Dinner',\n",
       " 'Takeaway Available',\n",
       " 'Free Parking',\n",
       " 'Outdoor Seating',\n",
       " 'Free Wifi',\n",
       " 'Air Conditioned',\n",
       " 'Fullbar',\n",
       " 'Indoor Seating',\n",
       " 'Table booking recommended',\n",
       " 'Sneakpeek',\n",
       " 'Wheelchair Accessible',\n",
       " 'Brunch']"
      ]
     },
     "execution_count": 9,
     "metadata": {},
     "output_type": "execute_result"
    }
   ],
   "source": [
    "list(data.highlights.values) "
   ]
  },
  {
   "cell_type": "code",
   "execution_count": 15,
   "metadata": {},
   "outputs": [],
   "source": [
    "Lunch=data[data['highlights'] == 'Lunch']\n",
    "Lunch = Lunch.drop_duplicates(subset=['name'], keep='first')\n",
    "json=Lunch.to_json(r'Desktop//Lunch.json')"
   ]
  },
  {
   "cell_type": "code",
   "execution_count": 20,
   "metadata": {},
   "outputs": [
    {
     "data": {
      "text/plain": [
       "4                             Bayroute\n",
       "29                    Barbeque Central\n",
       "41                             Hitchki\n",
       "68                             Veranda\n",
       "86           AB's - Absolute Barbecues\n",
       "102                     Butterfly High\n",
       "120                            Tanatan\n",
       "134    Sin City Rooftop Resto & Lounge\n",
       "203                      Delhi Highway\n",
       "212                        145 Andheri\n",
       "245                            Younion\n",
       "263                        Drinkery 51\n",
       "284                  Ministry Of Dance\n",
       "307       Yazu - Pan Asian Supper Club\n",
       "Name: name, dtype: object"
      ]
     },
     "execution_count": 20,
     "metadata": {},
     "output_type": "execute_result"
    }
   ],
   "source": [
    "Lunch.name"
   ]
  },
  {
   "cell_type": "code",
   "execution_count": 16,
   "metadata": {},
   "outputs": [],
   "source": [
    "Fullbar=data[data['highlights'] == 'Fullbar']\n",
    "Fullbar = Fullbar.drop_duplicates(subset=['name'], keep='first')\n",
    "json=Fullbar.to_json(r'Desktop//Fullbar.json')"
   ]
  },
  {
   "cell_type": "code",
   "execution_count": 21,
   "metadata": {},
   "outputs": [
    {
     "data": {
      "text/plain": [
       "9                             Bayroute\n",
       "48                             Hitchki\n",
       "81                             Veranda\n",
       "112                     Butterfly High\n",
       "130                            Tanatan\n",
       "140    Sin City Rooftop Resto & Lounge\n",
       "188                  The Flying Saucer\n",
       "221                        145 Andheri\n",
       "257                            Younion\n",
       "276                        Drinkery 51\n",
       "302                  Ministry Of Dance\n",
       "318       Yazu - Pan Asian Supper Club\n",
       "Name: name, dtype: object"
      ]
     },
     "execution_count": 21,
     "metadata": {},
     "output_type": "execute_result"
    }
   ],
   "source": [
    "Fullbar.name"
   ]
  },
  {
   "cell_type": "code",
   "execution_count": 17,
   "metadata": {},
   "outputs": [],
   "source": [
    "Dinner=data[data['highlights'] == 'Dinner']\n",
    "Dinner = Dinner.drop_duplicates(subset=['name'], keep='first')\n",
    "json=Dinner.to_json(r'Desktop//Dinner.json')\n"
   ]
  },
  {
   "cell_type": "code",
   "execution_count": 22,
   "metadata": {},
   "outputs": [
    {
     "data": {
      "text/plain": [
       "0                             Bayroute\n",
       "26                    Barbeque Central\n",
       "44                             Hitchki\n",
       "71                             Veranda\n",
       "90           AB's - Absolute Barbecues\n",
       "100                     Butterfly High\n",
       "117                            Tanatan\n",
       "131    Sin City Rooftop Resto & Lounge\n",
       "180                  The Flying Saucer\n",
       "200                      Delhi Highway\n",
       "215                        145 Andheri\n",
       "247                            Younion\n",
       "267                        Drinkery 51\n",
       "283                  Ministry Of Dance\n",
       "312       Yazu - Pan Asian Supper Club\n",
       "Name: name, dtype: object"
      ]
     },
     "execution_count": 22,
     "metadata": {},
     "output_type": "execute_result"
    }
   ],
   "source": [
    "Dinner.name"
   ]
  },
  {
   "cell_type": "code",
   "execution_count": 18,
   "metadata": {},
   "outputs": [],
   "source": [
    "Nightlife=data[data['highlights'] == 'Nightlife']\n",
    "Nightlife = Nightlife.drop_duplicates(subset=['name'], keep='first')\n",
    "json=Nightlife.to_json(r'Desktop//Nightlife.json')"
   ]
  },
  {
   "cell_type": "code",
   "execution_count": 23,
   "metadata": {},
   "outputs": [
    {
     "data": {
      "text/plain": [
       "47                             Hitchki\n",
       "105                     Butterfly High\n",
       "139    Sin City Rooftop Resto & Lounge\n",
       "193                  The Flying Saucer\n",
       "226                        145 Andheri\n",
       "262                            Younion\n",
       "301                  Ministry Of Dance\n",
       "Name: name, dtype: object"
      ]
     },
     "execution_count": 23,
     "metadata": {},
     "output_type": "execute_result"
    }
   ],
   "source": [
    "Nightlife.name"
   ]
  },
  {
   "cell_type": "code",
   "execution_count": 19,
   "metadata": {},
   "outputs": [],
   "source": [
    "Delivery=data[data['highlights'] == 'Delivery']\n",
    "Delivery = Delivery.drop_duplicates(subset=['name'], keep='first')\n",
    "json=Delivery.to_json(r'Desktop//Delivery.json')"
   ]
  },
  {
   "cell_type": "code",
   "execution_count": 24,
   "metadata": {},
   "outputs": [
    {
     "data": {
      "text/plain": [
       "43                          Hitchki\n",
       "69                          Veranda\n",
       "98                   Butterfly High\n",
       "114                         Tanatan\n",
       "185               The Flying Saucer\n",
       "201                   Delhi Highway\n",
       "217                     145 Andheri\n",
       "265                     Drinkery 51\n",
       "309    Yazu - Pan Asian Supper Club\n",
       "Name: name, dtype: object"
      ]
     },
     "execution_count": 24,
     "metadata": {},
     "output_type": "execute_result"
    }
   ],
   "source": [
    "Delivery.name"
   ]
  },
  {
   "cell_type": "code",
   "execution_count": null,
   "metadata": {},
   "outputs": [],
   "source": []
  }
 ],
 "metadata": {
  "kernelspec": {
   "display_name": "Python 3",
   "language": "python",
   "name": "python3"
  },
  "language_info": {
   "codemirror_mode": {
    "name": "ipython",
    "version": 3
   },
   "file_extension": ".py",
   "mimetype": "text/x-python",
   "name": "python",
   "nbconvert_exporter": "python",
   "pygments_lexer": "ipython3",
   "version": "3.7.4"
  }
 },
 "nbformat": 4,
 "nbformat_minor": 2
}
