{
 "cells": [
  {
   "cell_type": "code",
   "execution_count": 2,
   "metadata": {},
   "outputs": [],
   "source": [
    "import numpy as np\n",
    "import pandas as pd\n",
    "import itertools\n",
    "from sklearn.model_selection import train_test_split\n",
    "from sklearn.feature_extraction.text import TfidfVectorizer\n",
    "from sklearn.linear_model import PassiveAggressiveClassifier\n",
    "from sklearn.metrics import accuracy_score, confusion_matrix"
   ]
  },
  {
   "cell_type": "code",
   "execution_count": 3,
   "metadata": {},
   "outputs": [],
   "source": [
    "from pandas.io.json import json_normalize\n",
    "import json"
   ]
  },
  {
   "cell_type": "code",
   "execution_count": 4,
   "metadata": {},
   "outputs": [
    {
     "name": "stdout",
     "output_type": "stream",
     "text": [
      "(20, 60)\n"
     ]
    }
   ],
   "source": [
    "with open('C:/Users/akhan.extern/Desktop/jsondata/sanjay.json') as json_data:\n",
    "    sample_object = json.load(json_data)\n",
    "\n",
    "df = pd.io.json.json_normalize(sample_object)\n",
    "df.columns = df.columns.map(lambda x: x.split(\".\")[-1])\n",
    "\n",
    "print(df.shape)"
   ]
  },
  {
   "cell_type": "code",
   "execution_count": 5,
   "metadata": {},
   "outputs": [
    {
     "data": {
      "text/plain": [
       "Index(['delivery', 'takeaway', 'res_id', 'apikey', 'id', 'name', 'url',\n",
       "       'address', 'locality', 'city', 'city_id', 'latitude', 'longitude',\n",
       "       'zipcode', 'country_id', 'locality_verbose', 'switch_to_order_menu',\n",
       "       'cuisines', 'timings', 'average_cost_for_two', 'price_range',\n",
       "       'currency', 'highlights', 'offers', 'opentable_support',\n",
       "       'is_zomato_book_res', 'mezzo_provider', 'is_book_form_web_view',\n",
       "       'book_form_web_view_url', 'book_again_url', 'thumb', 'aggregate_rating',\n",
       "       'rating_text', 'rating_color', 'text', 'type', 'tint', 'votes',\n",
       "       'all_reviews_count', 'photos_url', 'photo_count', 'photos', 'menu_url',\n",
       "       'featured_image', 'has_online_delivery', 'is_delivering_now',\n",
       "       'include_bogo_offers', 'deeplink', 'is_table_reservation_supported',\n",
       "       'has_table_booking', 'events_url', 'phone_numbers', 'reviews',\n",
       "       'establishment', 'establishment_types', 'medio_provider', 'book_url',\n",
       "       'zomato_events', 'order_url', 'order_deeplink'],\n",
       "      dtype='object')"
      ]
     },
     "execution_count": 5,
     "metadata": {},
     "output_type": "execute_result"
    }
   ],
   "source": [
    "df.columns"
   ]
  },
  {
   "cell_type": "code",
   "execution_count": 6,
   "metadata": {},
   "outputs": [],
   "source": [
    "lst_col = 'highlights'"
   ]
  },
  {
   "cell_type": "code",
   "execution_count": 7,
   "metadata": {},
   "outputs": [],
   "source": [
    "data= pd.DataFrame({\n",
    "       col:np.repeat(df[col].values, df[lst_col].str.len())\n",
    "         for col in df.columns.difference([lst_col])\n",
    "      }).assign(**{lst_col:np.concatenate(df[lst_col].values)})[df.columns.tolist()]"
   ]
  },
  {
   "cell_type": "code",
   "execution_count": 8,
   "metadata": {},
   "outputs": [
    {
     "data": {
      "text/plain": [
       "['Dinner',\n",
       " 'Cash',\n",
       " 'Takeaway Available',\n",
       " 'Debit Card',\n",
       " 'Lunch',\n",
       " 'Credit Card',\n",
       " 'Valet Parking Available',\n",
       " 'Indoor Seating',\n",
       " 'Table booking recommended',\n",
       " 'Fullbar',\n",
       " 'Free Wifi',\n",
       " 'Air Conditioned',\n",
       " 'Smoking Area',\n",
       " 'Dinner',\n",
       " 'Cash',\n",
       " 'Takeaway Available',\n",
       " 'Debit Card',\n",
       " 'Lunch',\n",
       " 'Credit Card',\n",
       " 'Valet Parking Available',\n",
       " 'Indoor Seating',\n",
       " 'Table booking recommended',\n",
       " 'Fullbar',\n",
       " 'Free Wifi',\n",
       " 'Air Conditioned',\n",
       " 'Smoking Area',\n",
       " 'Dinner',\n",
       " 'Cash',\n",
       " 'Debit Card',\n",
       " 'Lunch',\n",
       " 'Credit Card',\n",
       " 'Buffet',\n",
       " 'Group Meal',\n",
       " 'Free Parking',\n",
       " 'Indoor Seating',\n",
       " 'Digital Payments Accepted',\n",
       " 'Catering Available',\n",
       " 'Live Sports Screening',\n",
       " 'Table booking recommended',\n",
       " 'Air Conditioned',\n",
       " 'Kid Friendly',\n",
       " 'Lunch',\n",
       " 'Cash',\n",
       " 'Credit Card',\n",
       " 'Debit Card',\n",
       " 'Dinner',\n",
       " 'Takeaway Available',\n",
       " 'Valet Parking Available',\n",
       " 'Air Conditioned',\n",
       " 'Indoor Seating',\n",
       " 'Sneakpeek',\n",
       " 'Buffet',\n",
       " 'Dinner',\n",
       " 'Cash',\n",
       " 'Takeaway Available',\n",
       " 'Debit Card',\n",
       " 'Lunch',\n",
       " 'Delivery',\n",
       " 'Credit Card',\n",
       " 'Valet Parking Available',\n",
       " 'Indoor Seating',\n",
       " 'Restricted Entry',\n",
       " 'Fullbar',\n",
       " 'Free Wifi',\n",
       " 'Table Reservation Not Required',\n",
       " 'Lunch',\n",
       " 'Delivery',\n",
       " 'Credit Card',\n",
       " 'Debit Card',\n",
       " 'Dinner',\n",
       " 'Cash',\n",
       " 'Takeaway Available',\n",
       " 'Live Entertainment',\n",
       " 'Valet Parking Available',\n",
       " 'Live Music',\n",
       " 'Table reservation required',\n",
       " 'Air Conditioned',\n",
       " 'Wheelchair Accessible',\n",
       " 'Live Sports Screening',\n",
       " 'Fullbar',\n",
       " 'Indoor Seating',\n",
       " 'Restricted Entry',\n",
       " 'Wifi',\n",
       " 'Brunch',\n",
       " 'Cash',\n",
       " 'Delivery',\n",
       " 'Debit Card',\n",
       " 'Lunch',\n",
       " 'Credit Card',\n",
       " 'Dinner',\n",
       " 'Available for Functions',\n",
       " 'Smoking Area',\n",
       " 'DJ',\n",
       " 'Valet Parking Available',\n",
       " 'Live Music',\n",
       " 'Table booking recommended',\n",
       " 'Restricted Entry',\n",
       " 'Air Conditioned',\n",
       " 'Private Dining Area Available',\n",
       " 'Wheelchair Accessible',\n",
       " 'Group Meal',\n",
       " 'Live Sports Screening',\n",
       " 'Fullbar',\n",
       " 'Indoor Seating',\n",
       " 'Lunch',\n",
       " 'Takeaway Available',\n",
       " 'Debit Card',\n",
       " 'Dinner',\n",
       " 'Cash',\n",
       " 'Credit Card',\n",
       " 'Delivery',\n",
       " 'Nightlife',\n",
       " 'Fullbar',\n",
       " 'Table Reservation Not Required',\n",
       " 'Smoking Area',\n",
       " 'Valet Parking Available',\n",
       " 'Indoor Seating',\n",
       " 'Wifi',\n",
       " 'Takeaway Available',\n",
       " 'Debit Card',\n",
       " 'Lunch',\n",
       " 'Delivery',\n",
       " 'Credit Card',\n",
       " 'No Alcohol Available',\n",
       " 'Dinner',\n",
       " 'Cash',\n",
       " 'Free Parking',\n",
       " 'Live Sports Screening',\n",
       " 'Live Music',\n",
       " 'Rooftop',\n",
       " 'Table booking recommended',\n",
       " 'Disabled Friendly',\n",
       " 'Smoking Area',\n",
       " 'Desserts and Bakes',\n",
       " 'Live Entertainment',\n",
       " 'Outdoor Seating',\n",
       " 'Indoor Seating',\n",
       " 'Air Conditioned',\n",
       " 'Dinner',\n",
       " 'Cash',\n",
       " 'Delivery',\n",
       " 'Credit Card',\n",
       " 'Lunch',\n",
       " 'Takeaway Available',\n",
       " 'Debit Card',\n",
       " 'Dance Floor',\n",
       " 'Karaoke',\n",
       " 'Live Sports Screening',\n",
       " 'Fullbar',\n",
       " 'Indoor Seating',\n",
       " 'Air Conditioned',\n",
       " 'Buffet',\n",
       " 'Free Parking',\n",
       " 'Live Entertainment',\n",
       " 'Nightlife',\n",
       " 'Live Music',\n",
       " 'Above 18 Only',\n",
       " 'LGBTQIA Friendly',\n",
       " 'Smoking Area',\n",
       " 'Brunch',\n",
       " 'Dinner',\n",
       " 'Cash',\n",
       " 'Takeaway Available',\n",
       " 'Debit Card',\n",
       " 'Lunch',\n",
       " 'Credit Card',\n",
       " 'Valet Parking Available',\n",
       " 'Indoor Seating',\n",
       " 'Table booking recommended',\n",
       " 'Fullbar',\n",
       " 'Free Wifi',\n",
       " 'Air Conditioned',\n",
       " 'Smoking Area',\n",
       " 'Dinner',\n",
       " 'Cash',\n",
       " 'Credit Card',\n",
       " 'Lunch',\n",
       " 'Takeaway Available',\n",
       " 'Debit Card',\n",
       " 'DJ',\n",
       " 'Live Entertainment',\n",
       " 'Nightlife',\n",
       " 'Fullbar',\n",
       " 'Live Music',\n",
       " 'Romantic Dining',\n",
       " 'Table booking recommended',\n",
       " 'Available for Functions',\n",
       " 'Wheelchair Accessible',\n",
       " 'Celebrity Frequented',\n",
       " 'Live Sports Screening',\n",
       " 'Sports TV',\n",
       " 'Outdoor Seating',\n",
       " 'Indoor Seating',\n",
       " 'Above 18 Only',\n",
       " 'Digital Payments Accepted',\n",
       " 'Air Conditioned',\n",
       " 'Smoking Area',\n",
       " 'Debit Card',\n",
       " 'Dinner',\n",
       " 'Standing Tables',\n",
       " 'Takeaway Available',\n",
       " 'Cash',\n",
       " 'Delivery',\n",
       " 'Credit Card',\n",
       " 'Celebrity Frequented',\n",
       " 'Fullbar',\n",
       " 'Live Music',\n",
       " 'Rooftop',\n",
       " 'Air Conditioned',\n",
       " 'Smoking Area',\n",
       " 'Nightlife',\n",
       " 'Outdoor Seating',\n",
       " 'Indoor Seating',\n",
       " 'Serves Cocktails',\n",
       " 'Table booking recommended',\n",
       " 'Resto Bar',\n",
       " 'Lunch',\n",
       " 'Credit Card',\n",
       " 'Dinner',\n",
       " 'Cash',\n",
       " 'Takeaway Available',\n",
       " 'Debit Card',\n",
       " 'Valet Parking Available',\n",
       " 'Free Wifi',\n",
       " 'Air Conditioned',\n",
       " 'Smoking Area',\n",
       " 'Indoor Seating',\n",
       " 'Table booking recommended',\n",
       " 'Dinner',\n",
       " 'Delivery',\n",
       " 'Credit Card',\n",
       " 'Debit Card',\n",
       " 'Lunch',\n",
       " 'Serves Alcohol',\n",
       " 'Cash',\n",
       " 'Takeaway Available',\n",
       " 'Indoor Seating',\n",
       " 'Table booking recommended',\n",
       " 'Axis Bank - Dining Delights',\n",
       " 'Live Sports Screening',\n",
       " 'Fullbar',\n",
       " 'Air Conditioned',\n",
       " 'Brunch',\n",
       " 'Live Entertainment',\n",
       " 'Valet Parking Available',\n",
       " 'Outdoor Seating',\n",
       " 'Dinner',\n",
       " 'Cash',\n",
       " 'Delivery',\n",
       " 'Debit Card',\n",
       " 'Credit Card',\n",
       " 'Lunch',\n",
       " 'Table booking recommended',\n",
       " 'Air Conditioned',\n",
       " 'Free Parking',\n",
       " 'Nightlife',\n",
       " 'Indoor Seating',\n",
       " 'Free Wifi',\n",
       " 'Digital Payments Accepted',\n",
       " 'Resto Bar',\n",
       " 'Smoking Area',\n",
       " 'Live Sports Screening',\n",
       " 'Fullbar',\n",
       " 'Lunch',\n",
       " 'Cash',\n",
       " 'Delivery',\n",
       " 'Credit Card',\n",
       " 'Debit Card',\n",
       " 'Dinner',\n",
       " 'Takeaway Available',\n",
       " 'Free Wifi',\n",
       " 'Air Conditioned',\n",
       " 'Free Parking',\n",
       " 'Outdoor Seating',\n",
       " 'Indoor Seating',\n",
       " 'Table booking recommended',\n",
       " 'Sneakpeek',\n",
       " 'Wheelchair Accessible',\n",
       " 'Brunch',\n",
       " 'Fullbar',\n",
       " 'Dinner',\n",
       " 'Lunch',\n",
       " 'Cash',\n",
       " 'Credit Card',\n",
       " 'Debit Card',\n",
       " 'DJ',\n",
       " 'Dance Floor',\n",
       " 'Live Entertainment',\n",
       " 'Valet Parking Available',\n",
       " 'Outdoor Seating',\n",
       " 'Indoor Seating',\n",
       " 'Digital Payments Accepted',\n",
       " 'Air Conditioned',\n",
       " 'LGBTQIA Friendly',\n",
       " 'Smoking Area',\n",
       " 'Brunch',\n",
       " 'Celebrity Frequented',\n",
       " 'Free Parking',\n",
       " 'Nightlife',\n",
       " 'Fullbar',\n",
       " 'Live Music',\n",
       " 'Table booking recommended',\n",
       " 'Available for Functions',\n",
       " 'Sneakpeek',\n",
       " 'Credit Card',\n",
       " 'Lunch',\n",
       " 'Cash',\n",
       " 'Takeaway Available',\n",
       " 'Debit Card',\n",
       " 'Dinner',\n",
       " 'Air Conditioned',\n",
       " 'LGBTQIA Friendly',\n",
       " 'Smoking Area',\n",
       " 'DJ',\n",
       " 'Live Entertainment',\n",
       " 'Fullbar',\n",
       " 'Indoor Seating',\n",
       " 'Free Wifi',\n",
       " 'Sneakpeek',\n",
       " 'Dance Floor',\n",
       " 'Nightlife',\n",
       " 'Live Music',\n",
       " 'Serves Cocktails',\n",
       " 'Table booking recommended',\n",
       " 'Dinner',\n",
       " 'Debit Card',\n",
       " 'Lunch',\n",
       " 'Cash',\n",
       " 'Credit Card',\n",
       " 'Free Parking',\n",
       " 'Fullbar',\n",
       " 'Indoor Seating',\n",
       " 'Table booking recommended',\n",
       " 'Digital Payments Accepted',\n",
       " 'Disabled Friendly',\n",
       " 'Smoking Area',\n",
       " 'Live Sports Screening',\n",
       " 'Live Music',\n",
       " 'Free Wifi',\n",
       " 'Restricted Entry',\n",
       " 'Air Conditioned',\n",
       " 'Desserts and Bakes']"
      ]
     },
     "execution_count": 8,
     "metadata": {},
     "output_type": "execute_result"
    }
   ],
   "source": [
    "list(data.highlights.values) "
   ]
  },
  {
   "cell_type": "code",
   "execution_count": 9,
   "metadata": {},
   "outputs": [],
   "source": [
    "Lunch=data[data['highlights'] == 'Lunch']\n",
    "json=Lunch.to_json(r'Desktop//Lunch.json')"
   ]
  },
  {
   "cell_type": "code",
   "execution_count": 10,
   "metadata": {},
   "outputs": [
    {
     "data": {
      "text/plain": [
       "4                             Bayroute\n",
       "17                            Bayroute\n",
       "29                    Barbeque Central\n",
       "41           AB's - Absolute Barbecues\n",
       "56                             Hitchki\n",
       "65                             Veranda\n",
       "87                         Drinkery 51\n",
       "104                            Hitchki\n",
       "120                       Kasbah Grand\n",
       "142                          BKC  DIVE\n",
       "164                           Bayroute\n",
       "176    Sin City Rooftop Resto & Lounge\n",
       "216                           Bayroute\n",
       "232                         Soul Curry\n",
       "251                     Butterfly High\n",
       "263       Yazu - Pan Asian Supper Club\n",
       "281                  Ministry Of Dance\n",
       "305                            Younion\n",
       "326                          Mannrangi\n",
       "Name: name, dtype: object"
      ]
     },
     "execution_count": 10,
     "metadata": {},
     "output_type": "execute_result"
    }
   ],
   "source": [
    "Lunch.name"
   ]
  },
  {
   "cell_type": "code",
   "execution_count": 11,
   "metadata": {},
   "outputs": [
    {
     "data": {
      "text/plain": [
       "4                             Bayroute\n",
       "29                    Barbeque Central\n",
       "41           AB's - Absolute Barbecues\n",
       "56                             Hitchki\n",
       "65                             Veranda\n",
       "87                         Drinkery 51\n",
       "120                       Kasbah Grand\n",
       "142                          BKC  DIVE\n",
       "176    Sin City Rooftop Resto & Lounge\n",
       "232                         Soul Curry\n",
       "251                     Butterfly High\n",
       "263       Yazu - Pan Asian Supper Club\n",
       "281                  Ministry Of Dance\n",
       "305                            Younion\n",
       "326                          Mannrangi\n",
       "Name: name, dtype: object"
      ]
     },
     "execution_count": 11,
     "metadata": {},
     "output_type": "execute_result"
    }
   ],
   "source": [
    "Lunch = Lunch.drop_duplicates(subset=['name'], keep='first')\n",
    "Lunch.name"
   ]
  },
  {
   "cell_type": "code",
   "execution_count": 12,
   "metadata": {},
   "outputs": [],
   "source": [
    "json=Lunch.to_json(r'Desktop//Lunch.json')"
   ]
  },
  {
   "cell_type": "code",
   "execution_count": 13,
   "metadata": {},
   "outputs": [],
   "source": [
    "Fullbar=data[data['highlights'] == 'Fullbar']\n",
    "Fullbar = Fullbar.drop_duplicates(subset=['name'], keep='first')\n",
    "json=Fullbar.to_json(r'Desktop//Fullbar.json')"
   ]
  },
  {
   "cell_type": "code",
   "execution_count": 14,
   "metadata": {},
   "outputs": [
    {
     "data": {
      "text/plain": [
       "9                             Bayroute\n",
       "62                             Hitchki\n",
       "79                             Veranda\n",
       "102                        Drinkery 51\n",
       "148                          BKC  DIVE\n",
       "182    Sin City Rooftop Resto & Lounge\n",
       "205                  The Flying Saucer\n",
       "240                         Soul Curry\n",
       "262                     Butterfly High\n",
       "279       Yazu - Pan Asian Supper Club\n",
       "299                  Ministry Of Dance\n",
       "315                            Younion\n",
       "330                          Mannrangi\n",
       "Name: name, dtype: object"
      ]
     },
     "execution_count": 14,
     "metadata": {},
     "output_type": "execute_result"
    }
   ],
   "source": [
    "Fullbar.name"
   ]
  },
  {
   "cell_type": "code",
   "execution_count": 15,
   "metadata": {},
   "outputs": [],
   "source": [
    "Dinner=data[data['highlights'] == 'Dinner']\n",
    "Dinner = Dinner.drop_duplicates(subset=['name'], keep='first')\n",
    "json=Dinner.to_json(r'Desktop//Dinner.json')\n"
   ]
  },
  {
   "cell_type": "code",
   "execution_count": 16,
   "metadata": {},
   "outputs": [
    {
     "data": {
      "text/plain": [
       "0                             Bayroute\n",
       "26                    Barbeque Central\n",
       "45           AB's - Absolute Barbecues\n",
       "52                             Hitchki\n",
       "69                             Veranda\n",
       "89                         Drinkery 51\n",
       "124                       Kasbah Grand\n",
       "138                          BKC  DIVE\n",
       "173    Sin City Rooftop Resto & Lounge\n",
       "198                  The Flying Saucer\n",
       "228                         Soul Curry\n",
       "246                     Butterfly High\n",
       "268       Yazu - Pan Asian Supper Club\n",
       "280                  Ministry Of Dance\n",
       "309                            Younion\n",
       "324                          Mannrangi\n",
       "Name: name, dtype: object"
      ]
     },
     "execution_count": 16,
     "metadata": {},
     "output_type": "execute_result"
    }
   ],
   "source": [
    "Dinner.name"
   ]
  },
  {
   "cell_type": "code",
   "execution_count": 17,
   "metadata": {},
   "outputs": [],
   "source": [
    "Nightlife=data[data['highlights'] == 'Nightlife']\n",
    "Nightlife = Nightlife.drop_duplicates(subset=['name'], keep='first')\n",
    "json=Nightlife.to_json(r'Desktop//Nightlife.json')"
   ]
  },
  {
   "cell_type": "code",
   "execution_count": 18,
   "metadata": {},
   "outputs": [
    {
     "data": {
      "text/plain": [
       "111                            Hitchki\n",
       "154                          BKC  DIVE\n",
       "181    Sin City Rooftop Resto & Lounge\n",
       "210                  The Flying Saucer\n",
       "255                     Butterfly High\n",
       "298                  Ministry Of Dance\n",
       "320                            Younion\n",
       "Name: name, dtype: object"
      ]
     },
     "execution_count": 18,
     "metadata": {},
     "output_type": "execute_result"
    }
   ],
   "source": [
    "Nightlife.name"
   ]
  },
  {
   "cell_type": "code",
   "execution_count": 19,
   "metadata": {},
   "outputs": [],
   "source": [
    "RomanticDining=data[data['highlights'] == 'Romantic Dining']\n",
    "RomanticDining = RomanticDining.drop_duplicates(subset=['name'], keep='first')\n",
    "json=RomanticDining.to_json(r'Desktop//RomanticDining.json')"
   ]
  },
  {
   "cell_type": "code",
   "execution_count": 20,
   "metadata": {},
   "outputs": [
    {
     "data": {
      "text/plain": [
       "184    Sin City Rooftop Resto & Lounge\n",
       "Name: name, dtype: object"
      ]
     },
     "execution_count": 20,
     "metadata": {},
     "output_type": "execute_result"
    }
   ],
   "source": [
    "RomanticDining.name"
   ]
  },
  {
   "cell_type": "code",
   "execution_count": 22,
   "metadata": {},
   "outputs": [
    {
     "name": "stderr",
     "output_type": "stream",
     "text": [
      "C:\\Users\\akhan.extern\\AppData\\Local\\Continuum\\anaconda3\\lib\\site-packages\\numpy\\lib\\histograms.py:778: RuntimeWarning: Converting input from bool to <class 'numpy.uint8'> for compatibility.\n",
      "  a, weights = _ravel_and_check_weights(a, weights)\n"
     ]
    },
    {
     "data": {
      "text/plain": [
       "array([[<matplotlib.axes._subplots.AxesSubplot object at 0x000002490D39AE08>,\n",
       "        <matplotlib.axes._subplots.AxesSubplot object at 0x000002490D47D808>,\n",
       "        <matplotlib.axes._subplots.AxesSubplot object at 0x000002490DB47E48>,\n",
       "        <matplotlib.axes._subplots.AxesSubplot object at 0x000002490DB7EF48>],\n",
       "       [<matplotlib.axes._subplots.AxesSubplot object at 0x000002490DBBC0C8>,\n",
       "        <matplotlib.axes._subplots.AxesSubplot object at 0x000002490DBF31C8>,\n",
       "        <matplotlib.axes._subplots.AxesSubplot object at 0x000002490DC2A2C8>,\n",
       "        <matplotlib.axes._subplots.AxesSubplot object at 0x000002490DC63408>],\n",
       "       [<matplotlib.axes._subplots.AxesSubplot object at 0x000002490DC69F88>,\n",
       "        <matplotlib.axes._subplots.AxesSubplot object at 0x000002490DCAA188>,\n",
       "        <matplotlib.axes._subplots.AxesSubplot object at 0x000002490DD0B708>,\n",
       "        <matplotlib.axes._subplots.AxesSubplot object at 0x000002490DD43808>],\n",
       "       [<matplotlib.axes._subplots.AxesSubplot object at 0x000002490DD7C908>,\n",
       "        <matplotlib.axes._subplots.AxesSubplot object at 0x000002490DDB5A48>,\n",
       "        <matplotlib.axes._subplots.AxesSubplot object at 0x000002490DDECAC8>,\n",
       "        <matplotlib.axes._subplots.AxesSubplot object at 0x000002490DE24BC8>],\n",
       "       [<matplotlib.axes._subplots.AxesSubplot object at 0x000002490DE5CCC8>,\n",
       "        <matplotlib.axes._subplots.AxesSubplot object at 0x000002490DE95E08>,\n",
       "        <matplotlib.axes._subplots.AxesSubplot object at 0x000002490DECDF08>,\n",
       "        <matplotlib.axes._subplots.AxesSubplot object at 0x000002490DF090C8>]],\n",
       "      dtype=object)"
      ]
     },
     "execution_count": 22,
     "metadata": {},
     "output_type": "execute_result"
    }
   ],
   "source": [
    "data.hist()"
   ]
  },
  {
   "cell_type": "code",
   "execution_count": 25,
   "metadata": {},
   "outputs": [],
   "source": [
    "from matplotlib import pyplot"
   ]
  },
  {
   "cell_type": "code",
   "execution_count": 46,
   "metadata": {},
   "outputs": [
    {
     "data": {
      "text/plain": [
       "array([[<matplotlib.axes._subplots.AxesSubplot object at 0x000002490EC66C48>]],\n",
       "      dtype=object)"
      ]
     },
     "execution_count": 46,
     "metadata": {},
     "output_type": "execute_result"
    },
    {
     "data": {
      "image/png": "[encoded data removed]",
      "text/plain": [
       "<Figure size 432x288 with 1 Axes>"
      ]
     },
     "metadata": {
      "needs_background": "light"
     },
     "output_type": "display_data"
    }
   ],
   "source": [
    " data.hist(column='average_cost_for_two', bins=40)"
   ]
  },
  {
   "cell_type": "code",
   "execution_count": 30,
   "metadata": {},
   "outputs": [],
   "source": [
    "import matplotlib.pyplot as plt"
   ]
  },
  {
   "cell_type": "code",
   "execution_count": 55,
   "metadata": {},
   "outputs": [],
   "source": [
    "labels=df.name"
   ]
  },
  {
   "cell_type": "code",
   "execution_count": 56,
   "metadata": {},
   "outputs": [
    {
     "data": {
      "text/plain": [
       "<matplotlib.axes._subplots.AxesSubplot at 0x2490ee3e748>"
      ]
     },
     "execution_count": 56,
     "metadata": {},
     "output_type": "execute_result"
    },
    {
     "data": {
      "image/png": "[encoded data removed]",
      "text/plain": [
       "<Figure size 720x720 with 1 Axes>"
      ]
     },
     "metadata": {},
     "output_type": "display_data"
    }
   ],
   "source": [
    "plt.subplots(figsize=(10, 10))\n",
    "df.average_cost_for_two.plot.pie(labels = labels, autopct='%1.1f%%', shadow=False)"
   ]
  },
  {
   "cell_type": "code",
   "execution_count": 59,
   "metadata": {},
   "outputs": [
    {
     "data": {
      "text/plain": [
       "([<matplotlib.axis.XTick at 0x2490ef1ea48>,\n",
       "  <matplotlib.axis.XTick at 0x2490ef1e108>,\n",
       "  <matplotlib.axis.XTick at 0x2490f551908>,\n",
       "  <matplotlib.axis.XTick at 0x2490f58f4c8>,\n",
       "  <matplotlib.axis.XTick at 0x2490f58f9c8>,\n",
       "  <matplotlib.axis.XTick at 0x2490f593088>,\n",
       "  <matplotlib.axis.XTick at 0x2490f5937c8>,\n",
       "  <matplotlib.axis.XTick at 0x2490f5981c8>,\n",
       "  <matplotlib.axis.XTick at 0x2490f598908>,\n",
       "  <matplotlib.axis.XTick at 0x2490f59c288>,\n",
       "  <matplotlib.axis.XTick at 0x2490f59ca88>,\n",
       "  <matplotlib.axis.XTick at 0x2490ef28c88>,\n",
       "  <matplotlib.axis.XTick at 0x2490f5a1808>,\n",
       "  <matplotlib.axis.XTick at 0x2490f5a4208>,\n",
       "  <matplotlib.axis.XTick at 0x2490f5a4808>,\n",
       "  <matplotlib.axis.XTick at 0x2490f5a8388>,\n",
       "  <matplotlib.axis.XTick at 0x2490f5a8e08>,\n",
       "  <matplotlib.axis.XTick at 0x2490f5ac908>,\n",
       "  <matplotlib.axis.XTick at 0x2490f5b1408>,\n",
       "  <matplotlib.axis.XTick at 0x2490f5b1d88>],\n",
       " <a list of 20 Text xticklabel objects>)"
      ]
     },
     "execution_count": 59,
     "metadata": {},
     "output_type": "execute_result"
    },
    {
     "data": {
      "image/png": "[encoded data removed]",
      "text/plain": [
       "<Figure size 720x720 with 1 Axes>"
      ]
     },
     "metadata": {
      "needs_background": "light"
     },
     "output_type": "display_data"
    }
   ],
   "source": [
    "plt.subplots(figsize=(10, 10))\n",
    "df['average_cost_for_two'].plot.bar( align='center', alpha=0.5, color='red')\n",
    "y_pos = np.arange(len(labels))\n",
    "#plt.yticks(y_pos, labels)\n",
    "plt.xticks(y_pos, labels)\n"
   ]
  },
  {
   "cell_type": "code",
   "execution_count": 61,
   "metadata": {},
   "outputs": [],
   "source": [
    "import seaborn as sns"
   ]
  },
  {
   "cell_type": "code",
   "execution_count": 67,
   "metadata": {},
   "outputs": [
    {
     "data": {
      "text/plain": [
       "<matplotlib.axes._subplots.AxesSubplot at 0x24911756a48>"
      ]
     },
     "execution_count": 67,
     "metadata": {},
     "output_type": "execute_result"
    },
    {
     "data": {
      "image/png": "[encoded data removed]",
      "text/plain": [
       "<Figure size 720x504 with 1 Axes>"
      ]
     },
     "metadata": {
      "needs_background": "light"
     },
     "output_type": "display_data"
    }
   ],
   "source": [
    "plt.figure(figsize=(10,7))\n",
    "sns.regplot(x=df[\"res_id\"], y=df[\"average_cost_for_two\"], fit_reg=True)"
   ]
  },
  {
   "cell_type": "code",
   "execution_count": 69,
   "metadata": {},
   "outputs": [],
   "source": [
    "x=df.res_id\n",
    "y=df.average_cost_for_two"
   ]
  },
  {
   "cell_type": "code",
   "execution_count": 71,
   "metadata": {},
   "outputs": [
    {
     "data": {
      "text/plain": [
       "<matplotlib.collections.PathCollection at 0x2490d47c948>"
      ]
     },
     "execution_count": 71,
     "metadata": {},
     "output_type": "execute_result"
    },
    {
     "data": {
      "image/png": "[encoded data removed]",
      "text/plain": [
       "<Figure size 432x288 with 1 Axes>"
      ]
     },
     "metadata": {
      "needs_background": "light"
     },
     "output_type": "display_data"
    }
   ],
   "source": [
    "plt.scatter(x,y,s=50)"
   ]
  },
  {
   "cell_type": "code",
   "execution_count": 72,
   "metadata": {},
   "outputs": [],
   "source": [
    "from sklearn.linear_model import LinearRegression"
   ]
  },
  {
   "cell_type": "code",
   "execution_count": null,
   "metadata": {},
   "outputs": [],
   "source": []
  }
 ],
 "metadata": {
  "kernelspec": {
   "display_name": "Python 3",
   "language": "python",
   "name": "python3"
  },
  "language_info": {
   "codemirror_mode": {
    "name": "ipython",
    "version": 3
   },
   "file_extension": ".py",
   "mimetype": "text/x-python",
   "name": "python",
   "nbconvert_exporter": "python",
   "pygments_lexer": "ipython3",
   "version": "3.7.4"
  }
 },
 "nbformat": 4,
 "nbformat_minor": 2
}
